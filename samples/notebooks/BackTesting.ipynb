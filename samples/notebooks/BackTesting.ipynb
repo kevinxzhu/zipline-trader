{
 "cells": [
  {
   "cell_type": "markdown",
   "id": "settled-verification",
   "metadata": {},
   "source": [
    "Loading the data bundle"
   ]
  },
  {
   "cell_type": "code",
   "execution_count": 9,
   "id": "digital-majority",
   "metadata": {},
   "outputs": [],
   "source": [
    "import os\n",
    "\n",
    "import warnings\n",
    "warnings.filterwarnings('ignore')\n",
    "\n",
    "#os.environ['ZIPLINE_ROOT'] = os.path.join(os.getcwd(), '.zipline')\n",
    "\n",
    "os.listdir(os.environ['ZIPLINE_ROOT'])\n",
    "import zipline\n",
    "from zipline.data import bundles\n",
    "\n",
    "bundle_name = 'alpaca_api'\n",
    "bundle_data = bundles.load(bundle_name)\n",
    "from zipline.pipeline.loaders import USEquityPricingLoader\n",
    "from zipline.utils.calendars import get_calendar\n",
    "from zipline.pipeline.data import USEquityPricing\n",
    "from zipline.data.data_portal import DataPortal\n",
    "\n",
    "import pandas as pd\n",
    "\n",
    "# Set the dataloader\n",
    "pricing_loader = USEquityPricingLoader.without_fx(bundle_data.equity_daily_bar_reader, bundle_data.adjustment_reader)\n",
    "\n",
    "\n",
    "# Define the function for the get_loader parameter\n",
    "def choose_loader(column):\n",
    "    if column not in USEquityPricing.columns:\n",
    "        raise Exception('Column not in USEquityPricing')\n",
    "    return pricing_loader\n",
    "\n",
    "# Set the trading calendar\n",
    "trading_calendar = get_calendar('NYSE')\n",
    "\n",
    "start_date = pd.Timestamp('2019-07-05', tz='utc')\n",
    "end_date = pd.Timestamp('2020-11-13', tz='utc')\n",
    "\n",
    "# Create a data portal\n",
    "data_portal = DataPortal(bundle_data.asset_finder,\n",
    "                         trading_calendar = trading_calendar,\n",
    "                         first_trading_day = start_date,\n",
    "                         equity_daily_reader = bundle_data.equity_daily_bar_reader,\n",
    "                         adjustment_reader = bundle_data.adjustment_reader)"
   ]
  },
  {
   "cell_type": "code",
   "execution_count": 10,
   "id": "incorporated-momentum",
   "metadata": {},
   "outputs": [],
   "source": [
    "import dateutil.parser\n",
    "from os.path import join, exists\n",
    "import pandas as pd\n",
    "import pandas_datareader.data as yahoo_reader\n",
    "import yaml\n",
    "\n",
    "import numpy as np\n",
    "\n",
    "\n",
    "def get_benchmark(symbol=None, start = None, end = None, other_file_path=None):\n",
    "    bm = yahoo_reader.DataReader(symbol,\n",
    "                                 'yahoo',\n",
    "                                 pd.Timestamp(start),\n",
    "                                 pd.Timestamp(end))['Close']\n",
    "    bm.index = bm.index.tz_localize('UTC')\n",
    "    return bm.pct_change(periods=1).fillna(0)\n"
   ]
  },
  {
   "cell_type": "code",
   "execution_count": 11,
   "id": "intermediate-federal",
   "metadata": {},
   "outputs": [],
   "source": [
    "from zipline.api import order_target, record, symbol\n",
    "import matplotlib.pyplot as plt\n",
    "\n",
    "def initialize(context):\n",
    "    context.equity = bundle_data.asset_finder.lookup_symbol(\"AMZN\", end_date)\n",
    "\n",
    "def handle_data(context, data):\n",
    "    order_target(context.equity, 100)\n",
    "\n",
    "def before_trading_start(context, data):\n",
    "    pass\n",
    "\n",
    "def analyze(context, perf):\n",
    "    ax1 = plt.subplot(211)\n",
    "    perf.portfolio_value.plot(ax=ax1)\n",
    "    ax2 = plt.subplot(212, sharex=ax1)\n",
    "    perf.sym.plot(ax=ax2, color='r')\n",
    "    plt.gcf().set_size_inches(18, 8)\n",
    "    plt.legend(['Algo', 'Benchmark'])\n",
    "    plt.ylabel(\"Returns\", color='black', size=25)"
   ]
  },
  {
   "cell_type": "code",
   "execution_count": 12,
   "id": "duplicate-ireland",
   "metadata": {},
   "outputs": [
    {
     "ename": "KeyError",
     "evalue": "Timestamp('2016-02-26 05:00:00+0000', tz='UTC')",
     "output_type": "error",
     "traceback": [
      "\u001b[0;31m---------------------------------------------------------------------------\u001b[0m",
      "\u001b[0;31mKeyError\u001b[0m                                  Traceback (most recent call last)",
      "\u001b[0;32mpandas/_libs/index.pyx\u001b[0m in \u001b[0;36mpandas._libs.index.DatetimeEngine.get_loc\u001b[0;34m()\u001b[0m\n",
      "\u001b[0;32mpandas/_libs/hashtable_class_helper.pxi\u001b[0m in \u001b[0;36mpandas._libs.hashtable.Int64HashTable.get_item\u001b[0;34m()\u001b[0m\n",
      "\u001b[0;32mpandas/_libs/hashtable_class_helper.pxi\u001b[0m in \u001b[0;36mpandas._libs.hashtable.Int64HashTable.get_item\u001b[0;34m()\u001b[0m\n",
      "\u001b[0;31mKeyError\u001b[0m: 1456462800000000000",
      "\nDuring handling of the above exception, another exception occurred:\n",
      "\u001b[0;31mKeyError\u001b[0m                                  Traceback (most recent call last)",
      "\u001b[0;32m<ipython-input-12-fd6f5c4bd8b6>\u001b[0m in \u001b[0;36m<module>\u001b[0;34m\u001b[0m\n\u001b[1;32m     22\u001b[0m                   \u001b[0mbefore_trading_start\u001b[0m\u001b[0;34m=\u001b[0m\u001b[0mbefore_trading_start\u001b[0m\u001b[0;34m,\u001b[0m\u001b[0;34m\u001b[0m\u001b[0;34m\u001b[0m\u001b[0m\n\u001b[1;32m     23\u001b[0m \u001b[0;31m#                   analyze=analyze,\u001b[0m\u001b[0;34m\u001b[0m\u001b[0;34m\u001b[0m\u001b[0;34m\u001b[0m\u001b[0m\n\u001b[0;32m---> 24\u001b[0;31m                   \u001b[0mdata_frequency\u001b[0m\u001b[0;34m=\u001b[0m\u001b[0;34m'daily'\u001b[0m\u001b[0;34m\u001b[0m\u001b[0;34m\u001b[0m\u001b[0m\n\u001b[0m\u001b[1;32m     25\u001b[0m                   )\n\u001b[1;32m     26\u001b[0m \u001b[0mfig\u001b[0m\u001b[0;34m,\u001b[0m \u001b[0maxes\u001b[0m \u001b[0;34m=\u001b[0m \u001b[0mplt\u001b[0m\u001b[0;34m.\u001b[0m\u001b[0msubplots\u001b[0m\u001b[0;34m(\u001b[0m\u001b[0;36m1\u001b[0m\u001b[0;34m,\u001b[0m \u001b[0;36m1\u001b[0m\u001b[0;34m,\u001b[0m \u001b[0mfigsize\u001b[0m\u001b[0;34m=\u001b[0m\u001b[0;34m(\u001b[0m\u001b[0;36m16\u001b[0m\u001b[0;34m,\u001b[0m \u001b[0;36m5\u001b[0m\u001b[0;34m)\u001b[0m\u001b[0;34m,\u001b[0m \u001b[0msharex\u001b[0m\u001b[0;34m=\u001b[0m\u001b[0;32mTrue\u001b[0m\u001b[0;34m)\u001b[0m\u001b[0;34m\u001b[0m\u001b[0;34m\u001b[0m\u001b[0m\n",
      "\u001b[0;32m~/Public/quantopian/zipline-trader/zipline/utils/run_algo.py\u001b[0m in \u001b[0;36mrun_algorithm\u001b[0;34m(start, end, initialize, capital_base, handle_data, before_trading_start, analyze, teardown, data_frequency, bundle, bundle_timestamp, trading_calendar, metrics_set, benchmark_returns, default_extension, extensions, strict_extensions, environ, blotter, broker, performance_callback, stop_execution_callback, execution_id, state_filename, realtime_bar_target)\u001b[0m\n\u001b[1;32m    487\u001b[0m         \u001b[0mperformance_callback\u001b[0m\u001b[0;34m=\u001b[0m\u001b[0mperformance_callback\u001b[0m\u001b[0;34m,\u001b[0m\u001b[0;34m\u001b[0m\u001b[0;34m\u001b[0m\u001b[0m\n\u001b[1;32m    488\u001b[0m         \u001b[0mstop_execution_callback\u001b[0m\u001b[0;34m=\u001b[0m\u001b[0mstop_execution_callback\u001b[0m\u001b[0;34m,\u001b[0m\u001b[0;34m\u001b[0m\u001b[0;34m\u001b[0m\u001b[0m\n\u001b[0;32m--> 489\u001b[0;31m         \u001b[0mexecution_id\u001b[0m\u001b[0;34m=\u001b[0m\u001b[0mexecution_id\u001b[0m\u001b[0;34m\u001b[0m\u001b[0;34m\u001b[0m\u001b[0m\n\u001b[0m\u001b[1;32m    490\u001b[0m     )\n\u001b[1;32m    491\u001b[0m \u001b[0;34m\u001b[0m\u001b[0m\n",
      "\u001b[0;32m~/Public/quantopian/zipline-trader/zipline/utils/run_algo.py\u001b[0m in \u001b[0;36m_run\u001b[0;34m(handle_data, initialize, before_trading_start, analyze, algofile, algotext, defines, data_frequency, capital_base, bundle, bundle_timestamp, start, end, output, trading_calendar, print_algo, metrics_set, local_namespace, environ, blotter, benchmark_spec, broker, state_filename, realtime_bar_target, performance_callback, stop_execution_callback, teardown, execution_id)\u001b[0m\n\u001b[1;32m    205\u001b[0m         \u001b[0mequity_minute_reader\u001b[0m\u001b[0;34m=\u001b[0m\u001b[0mbundle_data\u001b[0m\u001b[0;34m.\u001b[0m\u001b[0mequity_minute_bar_reader\u001b[0m\u001b[0;34m,\u001b[0m\u001b[0;34m\u001b[0m\u001b[0;34m\u001b[0m\u001b[0m\n\u001b[1;32m    206\u001b[0m         \u001b[0mequity_daily_reader\u001b[0m\u001b[0;34m=\u001b[0m\u001b[0mbundle_data\u001b[0m\u001b[0;34m.\u001b[0m\u001b[0mequity_daily_bar_reader\u001b[0m\u001b[0;34m,\u001b[0m\u001b[0;34m\u001b[0m\u001b[0;34m\u001b[0m\u001b[0m\n\u001b[0;32m--> 207\u001b[0;31m         \u001b[0madjustment_reader\u001b[0m\u001b[0;34m=\u001b[0m\u001b[0mbundle_data\u001b[0m\u001b[0;34m.\u001b[0m\u001b[0madjustment_reader\u001b[0m\u001b[0;34m,\u001b[0m\u001b[0;34m\u001b[0m\u001b[0;34m\u001b[0m\u001b[0m\n\u001b[0m\u001b[1;32m    208\u001b[0m     )\n\u001b[1;32m    209\u001b[0m \u001b[0;34m\u001b[0m\u001b[0m\n",
      "\u001b[0;32m~/Public/quantopian/zipline-trader/zipline/data/data_portal.py\u001b[0m in \u001b[0;36m__init__\u001b[0;34m(self, asset_finder, trading_calendar, first_trading_day, equity_daily_reader, equity_minute_reader, future_daily_reader, future_minute_reader, adjustment_reader, last_available_session, last_available_minute, minute_history_prefetch_length, daily_history_prefetch_length)\u001b[0m\n\u001b[1;32m    289\u001b[0m                 \u001b[0mself\u001b[0m\u001b[0;34m.\u001b[0m\u001b[0m_first_trading_day\u001b[0m\u001b[0;34m\u001b[0m\u001b[0;34m\u001b[0m\u001b[0m\n\u001b[1;32m    290\u001b[0m             )\n\u001b[0;32m--> 291\u001b[0;31m             \u001b[0;32mif\u001b[0m \u001b[0mself\u001b[0m\u001b[0;34m.\u001b[0m\u001b[0m_first_trading_day\u001b[0m \u001b[0;32mis\u001b[0m \u001b[0;32mnot\u001b[0m \u001b[0;32mNone\u001b[0m \u001b[0;32melse\u001b[0m \u001b[0;34m(\u001b[0m\u001b[0;32mNone\u001b[0m\u001b[0;34m,\u001b[0m \u001b[0;32mNone\u001b[0m\u001b[0;34m)\u001b[0m\u001b[0;34m\u001b[0m\u001b[0;34m\u001b[0m\u001b[0m\n\u001b[0m\u001b[1;32m    292\u001b[0m         )\n\u001b[1;32m    293\u001b[0m \u001b[0;34m\u001b[0m\u001b[0m\n",
      "\u001b[0;32m~/anaconda/envs/trader/lib/python3.6/site-packages/trading_calendars/trading_calendar.py\u001b[0m in \u001b[0;36mopen_and_close_for_session\u001b[0;34m(self, session_label)\u001b[0m\n\u001b[1;32m    842\u001b[0m         \"\"\"\n\u001b[1;32m    843\u001b[0m         return (\n\u001b[0;32m--> 844\u001b[0;31m             \u001b[0mself\u001b[0m\u001b[0;34m.\u001b[0m\u001b[0msession_open\u001b[0m\u001b[0;34m(\u001b[0m\u001b[0msession_label\u001b[0m\u001b[0;34m)\u001b[0m\u001b[0;34m,\u001b[0m\u001b[0;34m\u001b[0m\u001b[0;34m\u001b[0m\u001b[0m\n\u001b[0m\u001b[1;32m    845\u001b[0m             \u001b[0mself\u001b[0m\u001b[0;34m.\u001b[0m\u001b[0msession_close\u001b[0m\u001b[0;34m(\u001b[0m\u001b[0msession_label\u001b[0m\u001b[0;34m)\u001b[0m\u001b[0;34m\u001b[0m\u001b[0;34m\u001b[0m\u001b[0m\n\u001b[1;32m    846\u001b[0m         )\n",
      "\u001b[0;32m~/anaconda/envs/trader/lib/python3.6/site-packages/trading_calendars/trading_calendar.py\u001b[0m in \u001b[0;36msession_open\u001b[0;34m(self, session_label)\u001b[0m\n\u001b[1;32m    869\u001b[0m         return self.schedule.at[\n\u001b[1;32m    870\u001b[0m             \u001b[0msession_label\u001b[0m\u001b[0;34m,\u001b[0m\u001b[0;34m\u001b[0m\u001b[0;34m\u001b[0m\u001b[0m\n\u001b[0;32m--> 871\u001b[0;31m             \u001b[0;34m'market_open'\u001b[0m\u001b[0;34m\u001b[0m\u001b[0;34m\u001b[0m\u001b[0m\n\u001b[0m\u001b[1;32m    872\u001b[0m         ].tz_localize(UTC)\n\u001b[1;32m    873\u001b[0m \u001b[0;34m\u001b[0m\u001b[0m\n",
      "\u001b[0;32m~/anaconda/envs/trader/lib/python3.6/site-packages/pandas/core/indexing.py\u001b[0m in \u001b[0;36m__getitem__\u001b[0;34m(self, key)\u001b[0m\n\u001b[1;32m   1867\u001b[0m \u001b[0;34m\u001b[0m\u001b[0m\n\u001b[1;32m   1868\u001b[0m         \u001b[0mkey\u001b[0m \u001b[0;34m=\u001b[0m \u001b[0mself\u001b[0m\u001b[0;34m.\u001b[0m\u001b[0m_convert_key\u001b[0m\u001b[0;34m(\u001b[0m\u001b[0mkey\u001b[0m\u001b[0;34m)\u001b[0m\u001b[0;34m\u001b[0m\u001b[0;34m\u001b[0m\u001b[0m\n\u001b[0;32m-> 1869\u001b[0;31m         \u001b[0;32mreturn\u001b[0m \u001b[0mself\u001b[0m\u001b[0;34m.\u001b[0m\u001b[0mobj\u001b[0m\u001b[0;34m.\u001b[0m\u001b[0m_get_value\u001b[0m\u001b[0;34m(\u001b[0m\u001b[0;34m*\u001b[0m\u001b[0mkey\u001b[0m\u001b[0;34m,\u001b[0m \u001b[0mtakeable\u001b[0m\u001b[0;34m=\u001b[0m\u001b[0mself\u001b[0m\u001b[0;34m.\u001b[0m\u001b[0m_takeable\u001b[0m\u001b[0;34m)\u001b[0m\u001b[0;34m\u001b[0m\u001b[0;34m\u001b[0m\u001b[0m\n\u001b[0m\u001b[1;32m   1870\u001b[0m \u001b[0;34m\u001b[0m\u001b[0m\n\u001b[1;32m   1871\u001b[0m     \u001b[0;32mdef\u001b[0m \u001b[0m__setitem__\u001b[0m\u001b[0;34m(\u001b[0m\u001b[0mself\u001b[0m\u001b[0;34m,\u001b[0m \u001b[0mkey\u001b[0m\u001b[0;34m,\u001b[0m \u001b[0mvalue\u001b[0m\u001b[0;34m)\u001b[0m\u001b[0;34m:\u001b[0m\u001b[0;34m\u001b[0m\u001b[0;34m\u001b[0m\u001b[0m\n",
      "\u001b[0;32m~/anaconda/envs/trader/lib/python3.6/site-packages/pandas/core/frame.py\u001b[0m in \u001b[0;36m_get_value\u001b[0;34m(self, index, col, takeable)\u001b[0m\n\u001b[1;32m   1983\u001b[0m \u001b[0;34m\u001b[0m\u001b[0m\n\u001b[1;32m   1984\u001b[0m         \u001b[0;32mtry\u001b[0m\u001b[0;34m:\u001b[0m\u001b[0;34m\u001b[0m\u001b[0;34m\u001b[0m\u001b[0m\n\u001b[0;32m-> 1985\u001b[0;31m             \u001b[0;32mreturn\u001b[0m \u001b[0mengine\u001b[0m\u001b[0;34m.\u001b[0m\u001b[0mget_value\u001b[0m\u001b[0;34m(\u001b[0m\u001b[0mseries\u001b[0m\u001b[0;34m.\u001b[0m\u001b[0m_values\u001b[0m\u001b[0;34m,\u001b[0m \u001b[0mindex\u001b[0m\u001b[0;34m)\u001b[0m\u001b[0;34m\u001b[0m\u001b[0;34m\u001b[0m\u001b[0m\n\u001b[0m\u001b[1;32m   1986\u001b[0m         \u001b[0;32mexcept\u001b[0m \u001b[0;34m(\u001b[0m\u001b[0mTypeError\u001b[0m\u001b[0;34m,\u001b[0m \u001b[0mValueError\u001b[0m\u001b[0;34m)\u001b[0m\u001b[0;34m:\u001b[0m\u001b[0;34m\u001b[0m\u001b[0;34m\u001b[0m\u001b[0m\n\u001b[1;32m   1987\u001b[0m \u001b[0;34m\u001b[0m\u001b[0m\n",
      "\u001b[0;32mpandas/_libs/index.pyx\u001b[0m in \u001b[0;36mpandas._libs.index.IndexEngine.get_value\u001b[0;34m()\u001b[0m\n",
      "\u001b[0;32mpandas/_libs/index.pyx\u001b[0m in \u001b[0;36mpandas._libs.index.IndexEngine.get_value\u001b[0;34m()\u001b[0m\n",
      "\u001b[0;32mpandas/_libs/index.pyx\u001b[0m in \u001b[0;36mpandas._libs.index.DatetimeEngine.get_loc\u001b[0;34m()\u001b[0m\n",
      "\u001b[0;31mKeyError\u001b[0m: Timestamp('2016-02-26 05:00:00+0000', tz='UTC')"
     ]
    }
   ],
   "source": [
    "import pandas as pd\n",
    "from datetime import datetime\n",
    "import pytz\n",
    "\n",
    "from zipline import run_algorithm\n",
    "\n",
    "start = pd.Timestamp(datetime(2020, 1, 1, tzinfo=pytz.UTC))\n",
    "end = pd.Timestamp(datetime(2020, 11, 1, tzinfo=pytz.UTC))\n",
    "\n",
    "r = run_algorithm(start=start,\n",
    "                  end=end,\n",
    "                  initialize=initialize,\n",
    "                  capital_base=100000,\n",
    "                  handle_data=handle_data,\n",
    "                  benchmark_returns=get_benchmark(symbol=\"SPY\",\n",
    "                                                  start=start.date().isoformat(),\n",
    "                                                  end=end.date().isoformat()),\n",
    "                  bundle='alpaca_api',\n",
    "                  broker=None,\n",
    "                  state_filename=\"./demo.state\",\n",
    "                  trading_calendar=trading_calendar,\n",
    "                  before_trading_start=before_trading_start,\n",
    "#                   analyze=analyze,\n",
    "                  data_frequency='daily'\n",
    "                  )\n",
    "fig, axes = plt.subplots(1, 1, figsize=(16, 5), sharex=True)\n",
    "r.algorithm_period_return.plot(color='blue')\n",
    "r.benchmark_period_return.plot(color='red')\n",
    "\n",
    "plt.legend(['Algo', 'Benchmark'])\n",
    "plt.ylabel(\"Returns\", color='black', size=20)\n"
   ]
  },
  {
   "cell_type": "markdown",
   "id": "brazilian-handy",
   "metadata": {},
   "source": [
    "Using Pyfolio to analyze your results"
   ]
  },
  {
   "cell_type": "code",
   "execution_count": null,
   "id": "recorded-rhythm",
   "metadata": {},
   "outputs": [],
   "source": [
    "import pyfolio as pf\n",
    "returns, positions, transactions = pf.utils.extract_rets_pos_txn_from_zipline(r)\n",
    "benchmark_returns = r.benchmark_period_return"
   ]
  },
  {
   "cell_type": "code",
   "execution_count": null,
   "id": "civilian-morning",
   "metadata": {},
   "outputs": [],
   "source": [
    "import empyrical\n",
    "print(\"returns sharp ratio: {}\".format(empyrical.sharpe_ratio(returns)))  # how much is it sensative to divergance. the higher the better\n",
    "print(\"bencmark sharp ratio: {}\".format(empyrical.sharpe_ratio(benchmark_returns)))\n",
    "print(\"beta ratio: {}\".format(empyrical.beta(returns, benchmark_returns))) # how much correlation between algo to benchmark. we want it to be clsoe to zero\n",
    "print(\"alpha ratio: {}\".format(empyrical.alpha(returns, benchmark_returns)))\n"
   ]
  },
  {
   "cell_type": "code",
   "execution_count": null,
   "id": "accepting-spyware",
   "metadata": {},
   "outputs": [],
   "source": [
    "pf.create_position_tear_sheet(returns, positions=positions, transactions=transactions)"
   ]
  }
 ],
 "metadata": {
  "kernelspec": {
   "display_name": "Python 3",
   "language": "python",
   "name": "python3"
  },
  "language_info": {
   "codemirror_mode": {
    "name": "ipython",
    "version": 3
   },
   "file_extension": ".py",
   "mimetype": "text/x-python",
   "name": "python",
   "nbconvert_exporter": "python",
   "pygments_lexer": "ipython3",
   "version": "3.6.12"
  }
 },
 "nbformat": 4,
 "nbformat_minor": 5
}
