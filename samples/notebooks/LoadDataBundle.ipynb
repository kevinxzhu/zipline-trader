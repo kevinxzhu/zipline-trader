{
 "cells": [
  {
   "cell_type": "markdown",
   "id": "jewish-rates",
   "metadata": {},
   "source": [
    " Step1 - Set the ZIPLINE_ROOT"
   ]
  },
  {
   "cell_type": "code",
   "execution_count": 1,
   "id": "scenic-grace",
   "metadata": {},
   "outputs": [],
   "source": [
    "import os"
   ]
  },
  {
   "cell_type": "code",
   "execution_count": 2,
   "id": "expensive-publicity",
   "metadata": {},
   "outputs": [
    {
     "name": "stdout",
     "output_type": "stream",
     "text": [
      "/home/kzhu/.zipline\n"
     ]
    }
   ],
   "source": [
    "print(os.environ['ZIPLINE_ROOT'])"
   ]
  },
  {
   "cell_type": "code",
   "execution_count": 3,
   "id": "addressed-killing",
   "metadata": {},
   "outputs": [
    {
     "data": {
      "text/plain": [
       "['extension.py', 'data']"
      ]
     },
     "execution_count": 3,
     "metadata": {},
     "output_type": "execute_result"
    }
   ],
   "source": [
    "os.listdir(os.environ['ZIPLINE_ROOT'])"
   ]
  },
  {
   "cell_type": "markdown",
   "id": "threatened-software",
   "metadata": {},
   "source": [
    "Step2 - Load your Bundle"
   ]
  },
  {
   "cell_type": "code",
   "execution_count": 5,
   "id": "entire-horror",
   "metadata": {},
   "outputs": [],
   "source": [
    "import zipline\n",
    "from zipline.data import bundles\n",
    "\n",
    "bundle_name = 'custom_csv'\n",
    "bundle_data = bundles.load(bundle_name)"
   ]
  },
  {
   "cell_type": "markdown",
   "id": "early-chapter",
   "metadata": {},
   "source": [
    "Step3 - Create The Data Portal"
   ]
  },
  {
   "cell_type": "code",
   "execution_count": 8,
   "id": "rural-wyoming",
   "metadata": {},
   "outputs": [],
   "source": [
    "from zipline.pipeline.loaders import USEquityPricingLoader\n",
    "from zipline.utils.calendars import get_calendar\n",
    "from zipline.pipeline.data import USEquityPricing\n",
    "from zipline.data.data_portal import DataPortal\n",
    "\n",
    "import pandas as pd\n",
    "\n",
    "# Set the dataloader\n",
    "pricing_loader = USEquityPricingLoader.without_fx(bundle_data.equity_daily_bar_reader, bundle_data.adjustment_reader)\n",
    "\n",
    "\n",
    "# Define the function for the get_loader parameter\n",
    "def choose_loader(column):\n",
    "    if column not in USEquityPricing.columns:\n",
    "        raise Exception('Column not in USEquityPricing')\n",
    "    return pricing_loader\n",
    "\n",
    "# Set the trading calendar\n",
    "trading_calendar = get_calendar('NYSE')\n",
    "\n",
    "start_date = pd.Timestamp('2021-02-03', tz='utc')\n",
    "end_date = pd.Timestamp('2021-02-25', tz='utc')\n",
    "\n",
    "# Create a data portal\n",
    "data_portal = DataPortal(bundle_data.asset_finder,\n",
    "                         trading_calendar = trading_calendar,\n",
    "                         first_trading_day = start_date,\n",
    "                         equity_daily_reader = bundle_data.equity_daily_bar_reader,\n",
    "                         adjustment_reader = bundle_data.adjustment_reader)\n"
   ]
  },
  {
   "cell_type": "markdown",
   "id": "sacred-drunk",
   "metadata": {},
   "source": [
    "Let’s Get Some Historical Data"
   ]
  },
  {
   "cell_type": "code",
   "execution_count": 7,
   "id": "constitutional-revelation",
   "metadata": {},
   "outputs": [
    {
     "data": {
      "text/html": [
       "<div>\n",
       "<style scoped>\n",
       "    .dataframe tbody tr th:only-of-type {\n",
       "        vertical-align: middle;\n",
       "    }\n",
       "\n",
       "    .dataframe tbody tr th {\n",
       "        vertical-align: top;\n",
       "    }\n",
       "\n",
       "    .dataframe thead th {\n",
       "        text-align: right;\n",
       "    }\n",
       "</style>\n",
       "<table border=\"1\" class=\"dataframe\">\n",
       "  <thead>\n",
       "    <tr style=\"text-align: right;\">\n",
       "      <th></th>\n",
       "      <th>Equity(1972 [FTCH])</th>\n",
       "    </tr>\n",
       "  </thead>\n",
       "  <tbody>\n",
       "    <tr>\n",
       "      <th>2016-03-14 00:00:00+00:00</th>\n",
       "      <td>28.513</td>\n",
       "    </tr>\n",
       "    <tr>\n",
       "      <th>2016-03-15 00:00:00+00:00</th>\n",
       "      <td>28.513</td>\n",
       "    </tr>\n",
       "    <tr>\n",
       "      <th>2016-03-16 00:00:00+00:00</th>\n",
       "      <td>28.513</td>\n",
       "    </tr>\n",
       "    <tr>\n",
       "      <th>2016-03-17 00:00:00+00:00</th>\n",
       "      <td>28.513</td>\n",
       "    </tr>\n",
       "    <tr>\n",
       "      <th>2016-03-18 00:00:00+00:00</th>\n",
       "      <td>28.513</td>\n",
       "    </tr>\n",
       "    <tr>\n",
       "      <th>2016-03-21 00:00:00+00:00</th>\n",
       "      <td>28.513</td>\n",
       "    </tr>\n",
       "    <tr>\n",
       "      <th>2016-03-22 00:00:00+00:00</th>\n",
       "      <td>28.513</td>\n",
       "    </tr>\n",
       "    <tr>\n",
       "      <th>2016-03-23 00:00:00+00:00</th>\n",
       "      <td>28.513</td>\n",
       "    </tr>\n",
       "    <tr>\n",
       "      <th>2016-03-24 00:00:00+00:00</th>\n",
       "      <td>28.513</td>\n",
       "    </tr>\n",
       "    <tr>\n",
       "      <th>2016-03-28 00:00:00+00:00</th>\n",
       "      <td>28.513</td>\n",
       "    </tr>\n",
       "  </tbody>\n",
       "</table>\n",
       "</div>"
      ],
      "text/plain": [
       "                           Equity(1972 [FTCH])\n",
       "2016-03-14 00:00:00+00:00               28.513\n",
       "2016-03-15 00:00:00+00:00               28.513\n",
       "2016-03-16 00:00:00+00:00               28.513\n",
       "2016-03-17 00:00:00+00:00               28.513\n",
       "2016-03-18 00:00:00+00:00               28.513\n",
       "2016-03-21 00:00:00+00:00               28.513\n",
       "2016-03-22 00:00:00+00:00               28.513\n",
       "2016-03-23 00:00:00+00:00               28.513\n",
       "2016-03-24 00:00:00+00:00               28.513\n",
       "2016-03-28 00:00:00+00:00               28.513"
      ]
     },
     "execution_count": 7,
     "metadata": {},
     "output_type": "execute_result"
    }
   ],
   "source": [
    "equity = bundle_data.asset_finder.lookup_symbol(\"FTCH\", end_date)\n",
    "data_portal.get_history_window(assets=[equity], end_dt=end_date, bar_count=10,\n",
    "                               frequency='1d',\n",
    "                               field='close',   // one of OHLCV\n",
    "                               data_frequency='daily')"
   ]
  },
  {
   "cell_type": "code",
   "execution_count": null,
   "id": "acoustic-dinner",
   "metadata": {},
   "outputs": [],
   "source": []
  }
 ],
 "metadata": {
  "kernelspec": {
   "display_name": "Python 3",
   "language": "python",
   "name": "python3"
  },
  "language_info": {
   "codemirror_mode": {
    "name": "ipython",
    "version": 3
   },
   "file_extension": ".py",
   "mimetype": "text/x-python",
   "name": "python",
   "nbconvert_exporter": "python",
   "pygments_lexer": "ipython3",
   "version": "3.6.12-final"
  }
 },
 "nbformat": 4,
 "nbformat_minor": 5
}